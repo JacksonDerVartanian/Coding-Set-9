{
 "cells": [
  {
   "cell_type": "code",
   "execution_count": null,
   "id": "a4b28ad4-a4e8-48cb-a5da-a3297ee11688",
   "metadata": {},
   "outputs": [],
   "source": [
    "# Here we define the dictionary for Encryption and Decryption\n",
    "encryption_dict = {\n",
    "    'A': '@', 'B': '#', 'C': '$', 'D': '%', 'E': '&', 'F': '1', 'G': '2', 'H': '3',\n",
    "    'I': '4', 'J': '5', 'K': '6', 'L': '7', 'M': '8', 'N': '9', 'O': '0', 'P': '*',\n",
    "    'Q': '!', 'R': '?', 'S': '(', 'T': ')', 'U': '[', 'V': ']', 'W': '{', 'X': '}',\n",
    "    'Y': ':', 'Z': ';',\n",
    "}\n",
    "\n",
    "# This code adds lowecase letters into the dictionary\n",
    "for letter in 'abcdefghijklmnopqrstuvwxyz':\n",
    "    encryption_dict[letter] = encryption_dict[letter.upper()].lower()\n",
    "\n",
    "# We then need to add in a reverse dictionary for decryption\n",
    "decryption_dict = {v: k for k, v in encryption_dict.items()}\n",
    "\n",
    "def encrypt_file(input_file, output_file):\n",
    "    with open(input_file, 'r') as file_in, open(output_file, 'w') as file_out:\n",
    "        for line in file_in:\n",
    "            encrypted_line = ''.join([encryption_dict.get(c, c) for c in line])\n",
    "            file_out.write(encrypted_line)\n",
    "\n",
    "def decrypt_file(encrypted_file):\n",
    "    with open(encrypted_file, 'r') as file_in:\n",
    "        for line in file_in:\n",
    "            decrypted_line = ''.join([decryption_dict.get(c, c) for c in line])\n",
    "            print(decrypted_line, end='')\n",
    "\n",
    "def main():\n",
    "    action = input(\"Enter 'E' to encrypt or 'D' to decrypt: \").strip().upper()\n",
    "\n",
    "    if action == 'E':\n",
    "        input_file = input(\"Enter the name of the input file: \")\n",
    "        output_file = input(\"Enter the name of the output (encrypted) file: \")\n",
    "        encrypt_file(input_file, output_file)\n",
    "        print(\"File encrypted successfully.\")\n",
    "    elif action == 'D':\n",
    "        encrypted_file = input(\"Enter the name of the encrypted file: \")\n",
    "        decrypt_file(encrypted_file)\n",
    "    else:\n",
    "        print(\"Invalid choice. Please enter 'E' for encryption or 'D' for decryption.\")\n",
    "\n",
    "if __name__ == \"__main__\":\n",
    "    main()"
   ]
  }
 ],
 "metadata": {
  "kernelspec": {
   "display_name": "Python 3 (ipykernel)",
   "language": "python",
   "name": "python3"
  },
  "language_info": {
   "codemirror_mode": {
    "name": "ipython",
    "version": 3
   },
   "file_extension": ".py",
   "mimetype": "text/x-python",
   "name": "python",
   "nbconvert_exporter": "python",
   "pygments_lexer": "ipython3",
   "version": "3.11.6"
  }
 },
 "nbformat": 4,
 "nbformat_minor": 5
}
